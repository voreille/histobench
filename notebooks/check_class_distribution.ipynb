{
 "cells": [
  {
   "cell_type": "code",
   "execution_count": 1,
   "id": "0d32dda5",
   "metadata": {},
   "outputs": [],
   "source": [
    "from pathlib import Path\n",
    "\n",
    "import pandas as pd\n",
    "\n",
    "from histobench.finetuning.finetune_lunghist700_avg_pool_with_finetuner import (\n",
    "    get_train_val_test_ids, CLASS_MAPPING, SUPERCLASS_MAPPING\n",
    ")"
   ]
  },
  {
   "cell_type": "code",
   "execution_count": 2,
   "id": "ddcd47cf",
   "metadata": {},
   "outputs": [],
   "source": [
    "input_dir = Path(\"../data/LungHist700/LungHist700_10x\")"
   ]
  },
  {
   "cell_type": "code",
   "execution_count": 3,
   "id": "86d89487",
   "metadata": {},
   "outputs": [],
   "source": [
    "metadata_path = \"../data/LungHist700/metadata.csv\"\n",
    "metadata = pd.read_csv(metadata_path).set_index(\"filename\")\n",
    "train_ids, val_ids, test_ids = get_train_val_test_ids(resolution=\"all\")"
   ]
  },
  {
   "cell_type": "code",
   "execution_count": 4,
   "id": "a1ba3c3f",
   "metadata": {},
   "outputs": [],
   "source": [
    "image_paths = list(input_dir.glob(\"*.png\"))"
   ]
  },
  {
   "cell_type": "code",
   "execution_count": 5,
   "id": "80698d9f",
   "metadata": {},
   "outputs": [],
   "source": [
    "test_image_paths = [\n",
    "        path for path in image_paths if metadata.loc[path.stem, \"patient_id\"] in test_ids\n",
    "    ]"
   ]
  },
  {
   "cell_type": "code",
   "execution_count": 6,
   "id": "f4498b79",
   "metadata": {},
   "outputs": [],
   "source": [
    "test_labels = [\n",
    "        CLASS_MAPPING[metadata.loc[path.stem, \"class_name\"]] for path in test_image_paths\n",
    "    ]"
   ]
  },
  {
   "cell_type": "code",
   "execution_count": 8,
   "id": "1b3595a7",
   "metadata": {},
   "outputs": [
    {
     "data": {
      "text/plain": [
       "[5,\n",
       " 1,\n",
       " 0,\n",
       " 3,\n",
       " 0,\n",
       " 4,\n",
       " 1,\n",
       " 0,\n",
       " 4,\n",
       " 1,\n",
       " 4,\n",
       " 4,\n",
       " 2,\n",
       " 4,\n",
       " 1,\n",
       " 4,\n",
       " 3,\n",
       " 3,\n",
       " 2,\n",
       " 2,\n",
       " 1,\n",
       " 2,\n",
       " 1,\n",
       " 1,\n",
       " 2,\n",
       " 0,\n",
       " 6,\n",
       " 5,\n",
       " 2,\n",
       " 0,\n",
       " 6,\n",
       " 3,\n",
       " 0,\n",
       " 4,\n",
       " 0,\n",
       " 0,\n",
       " 4,\n",
       " 3,\n",
       " 1,\n",
       " 4,\n",
       " 4,\n",
       " 4,\n",
       " 5,\n",
       " 6,\n",
       " 1,\n",
       " 2,\n",
       " 5,\n",
       " 1,\n",
       " 3,\n",
       " 5,\n",
       " 0,\n",
       " 0,\n",
       " 1,\n",
       " 3,\n",
       " 5,\n",
       " 4,\n",
       " 0,\n",
       " 4,\n",
       " 1,\n",
       " 0,\n",
       " 1,\n",
       " 3,\n",
       " 4,\n",
       " 4,\n",
       " 2,\n",
       " 1,\n",
       " 3,\n",
       " 5,\n",
       " 0,\n",
       " 1,\n",
       " 4,\n",
       " 0,\n",
       " 0,\n",
       " 0,\n",
       " 6,\n",
       " 0,\n",
       " 2,\n",
       " 3,\n",
       " 1,\n",
       " 0,\n",
       " 3,\n",
       " 1,\n",
       " 5,\n",
       " 1,\n",
       " 6,\n",
       " 6,\n",
       " 1,\n",
       " 0,\n",
       " 2,\n",
       " 3,\n",
       " 1,\n",
       " 6,\n",
       " 3,\n",
       " 0,\n",
       " 4,\n",
       " 5,\n",
       " 0,\n",
       " 5,\n",
       " 0,\n",
       " 5,\n",
       " 6,\n",
       " 0,\n",
       " 0,\n",
       " 1,\n",
       " 4,\n",
       " 0,\n",
       " 1,\n",
       " 4,\n",
       " 3,\n",
       " 0,\n",
       " 5,\n",
       " 4,\n",
       " 1,\n",
       " 2,\n",
       " 6,\n",
       " 6,\n",
       " 1,\n",
       " 2,\n",
       " 3,\n",
       " 6,\n",
       " 4,\n",
       " 0,\n",
       " 0,\n",
       " 4,\n",
       " 2,\n",
       " 6,\n",
       " 1,\n",
       " 3,\n",
       " 2,\n",
       " 4,\n",
       " 1,\n",
       " 1,\n",
       " 5,\n",
       " 5,\n",
       " 0,\n",
       " 3,\n",
       " 1,\n",
       " 6,\n",
       " 3,\n",
       " 6,\n",
       " 0,\n",
       " 1,\n",
       " 3,\n",
       " 2,\n",
       " 1,\n",
       " 5,\n",
       " 0,\n",
       " 5,\n",
       " 2,\n",
       " 6,\n",
       " 2,\n",
       " 0]"
      ]
     },
     "execution_count": 8,
     "metadata": {},
     "output_type": "execute_result"
    }
   ],
   "source": [
    "test_labels"
   ]
  },
  {
   "cell_type": "code",
   "execution_count": 9,
   "id": "44be57f8",
   "metadata": {},
   "outputs": [
    {
     "data": {
      "text/plain": [
       "{5: 0.10526315789473684,\n",
       " 1: 0.19736842105263158,\n",
       " 0: 0.21052631578947367,\n",
       " 3: 0.125,\n",
       " 4: 0.1513157894736842,\n",
       " 2: 0.1118421052631579,\n",
       " 6: 0.09868421052631579}"
      ]
     },
     "execution_count": 9,
     "metadata": {},
     "output_type": "execute_result"
    }
   ],
   "source": [
    "from collections import Counter\n",
    "\n",
    "# Count occurrences of each label\n",
    "label_counts = Counter(test_labels)\n",
    "\n",
    "# Calculate the ratio for each label\n",
    "total_labels = len(test_labels)\n",
    "label_ratios = {label: count / total_labels for label, count in label_counts.items()}\n",
    "\n",
    "# Display the ratios\n",
    "label_ratios"
   ]
  },
  {
   "cell_type": "code",
   "execution_count": 10,
   "id": "43e94d7f",
   "metadata": {},
   "outputs": [
    {
     "data": {
      "text/plain": [
       "{'nor': 0,\n",
       " 'aca_bd': 1,\n",
       " 'aca_md': 2,\n",
       " 'aca_pd': 3,\n",
       " 'scc_bd': 4,\n",
       " 'scc_md': 5,\n",
       " 'scc_pd': 6}"
      ]
     },
     "execution_count": 10,
     "metadata": {},
     "output_type": "execute_result"
    }
   ],
   "source": [
    "CLASS_MAPPING"
   ]
  },
  {
   "cell_type": "code",
   "execution_count": null,
   "id": "84f23243",
   "metadata": {},
   "outputs": [],
   "source": []
  }
 ],
 "metadata": {
  "kernelspec": {
   "display_name": "torchpl",
   "language": "python",
   "name": "python3"
  },
  "language_info": {
   "codemirror_mode": {
    "name": "ipython",
    "version": 3
   },
   "file_extension": ".py",
   "mimetype": "text/x-python",
   "name": "python",
   "nbconvert_exporter": "python",
   "pygments_lexer": "ipython3",
   "version": "3.11.0"
  }
 },
 "nbformat": 4,
 "nbformat_minor": 5
}
