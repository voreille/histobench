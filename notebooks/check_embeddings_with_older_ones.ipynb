{
 "cells": [
  {
   "cell_type": "code",
   "execution_count": 16,
   "id": "1862f02a",
   "metadata": {},
   "outputs": [],
   "source": [
    "from pathlib import Path\n",
    "\n",
    "import numpy as np\n",
    "from numpy.linalg import norm\n",
    "from histobench.evaluation.compute_embeddings_tcga_ut import load_embeddings"
   ]
  },
  {
   "cell_type": "code",
   "execution_count": 17,
   "id": "11a6bbe5",
   "metadata": {},
   "outputs": [],
   "source": [
    "def load_old_embeddings(input_path):\n",
    "    \"\"\"Load embeddings and tile IDs from disk.\"\"\"\n",
    "    data = np.load(input_path)\n",
    "    return data[\"embeddings\"], data[\"image_ids\"]"
   ]
  },
  {
   "cell_type": "code",
   "execution_count": 18,
   "id": "8b3b945f",
   "metadata": {},
   "outputs": [],
   "source": [
    "embeddings_old, image_ids_old = load_old_embeddings(\"/home/valentin/workspaces/histolung/data/embeddings/LungHist700/LungHist700_10x/test_embeddings.npz\")"
   ]
  },
  {
   "cell_type": "code",
   "execution_count": 19,
   "id": "9cf273a0",
   "metadata": {},
   "outputs": [],
   "source": [
    "embeddings, image_paths = load_embeddings(\"/home/valentin/workspaces/histobench/data/embeddings/lunghist700/test_darya.h5\")"
   ]
  },
  {
   "cell_type": "code",
   "execution_count": 20,
   "id": "785bb4ae",
   "metadata": {},
   "outputs": [
    {
     "data": {
      "text/plain": [
       "880.4357"
      ]
     },
     "execution_count": 20,
     "metadata": {},
     "output_type": "execute_result"
    }
   ],
   "source": [
    "norm(embeddings)"
   ]
  },
  {
   "cell_type": "code",
   "execution_count": 21,
   "id": "2ec3007c",
   "metadata": {},
   "outputs": [],
   "source": [
    "image_ids = [Path(path).stem for path in image_paths]"
   ]
  },
  {
   "cell_type": "code",
   "execution_count": 22,
   "id": "6131559a",
   "metadata": {},
   "outputs": [
    {
     "data": {
      "text/plain": [
       "'aca_bd_20x_304'"
      ]
     },
     "execution_count": 22,
     "metadata": {},
     "output_type": "execute_result"
    }
   ],
   "source": [
    "image_ids[0]"
   ]
  },
  {
   "cell_type": "code",
   "execution_count": 23,
   "id": "0d257829",
   "metadata": {},
   "outputs": [
    {
     "name": "stdout",
     "output_type": "stream",
     "text": [
      "Are all common embeddings equal? False\n",
      "Max difference: 0.002701044\n",
      "Indices with max difference: (244, 2033)\n"
     ]
    }
   ],
   "source": [
    "# Sort both embeddings by image_ids and compare\n",
    "import numpy as np\n",
    "\n",
    "# Create mapping from image_id to index for both sets\n",
    "old_id_to_idx = {img_id: idx for idx, img_id in enumerate(image_ids_old)}\n",
    "new_id_to_idx = {img_id: idx for idx, img_id in enumerate(image_ids)}\n",
    "\n",
    "# Find common image_ids\n",
    "common_ids = sorted(set(image_ids_old) & set(image_ids))\n",
    "\n",
    "# Stack embeddings in the same order for comparison\n",
    "old_sorted = np.stack([embeddings_old[old_id_to_idx[img_id]] for img_id in common_ids])\n",
    "new_sorted = np.stack([embeddings[new_id_to_idx[img_id]] for img_id in common_ids])\n",
    "\n",
    "# Check for differences\n",
    "are_equal = np.allclose(old_sorted, new_sorted)\n",
    "print(f\"Are all common embeddings equal? {are_equal}\")\n",
    "\n",
    "# Optionally, show indices or values where they differ\n",
    "if not are_equal:\n",
    "    diff = np.abs(old_sorted - new_sorted)\n",
    "    print(\"Max difference:\", diff.max())\n",
    "    print(\"Indices with max difference:\", np.unravel_index(np.argmax(diff), diff.shape))"
   ]
  },
  {
   "cell_type": "code",
   "execution_count": 24,
   "id": "e9ee87a1",
   "metadata": {},
   "outputs": [
    {
     "data": {
      "text/plain": [
       "691"
      ]
     },
     "execution_count": 24,
     "metadata": {},
     "output_type": "execute_result"
    }
   ],
   "source": [
    "len(common_ids)"
   ]
  },
  {
   "cell_type": "code",
   "execution_count": 25,
   "id": "3762e252",
   "metadata": {},
   "outputs": [
    {
     "data": {
      "text/plain": [
       "((691, 2048), (691, 2048))"
      ]
     },
     "execution_count": 25,
     "metadata": {},
     "output_type": "execute_result"
    }
   ],
   "source": [
    "new_sorted.shape, old_sorted.shape"
   ]
  },
  {
   "cell_type": "code",
   "execution_count": 26,
   "id": "fb0bf29c",
   "metadata": {},
   "outputs": [
    {
     "data": {
      "text/plain": [
       "array([0.6374878 , 0.84489286, 2.3136556 , ..., 1.4872555 , 0.05804763,\n",
       "       1.0085356 ], dtype=float32)"
      ]
     },
     "execution_count": 26,
     "metadata": {},
     "output_type": "execute_result"
    }
   ],
   "source": [
    "new_sorted[0,:]"
   ]
  },
  {
   "cell_type": "code",
   "execution_count": 27,
   "id": "e50156d7",
   "metadata": {},
   "outputs": [
    {
     "data": {
      "text/plain": [
       "array([0.63771075, 0.84482867, 2.3136683 , ..., 1.4875383 , 0.05806846,\n",
       "       1.0085622 ], dtype=float32)"
      ]
     },
     "execution_count": 27,
     "metadata": {},
     "output_type": "execute_result"
    }
   ],
   "source": [
    "old_sorted[0,:]"
   ]
  },
  {
   "cell_type": "code",
   "execution_count": 28,
   "id": "5543e886",
   "metadata": {},
   "outputs": [
    {
     "data": {
      "text/plain": [
       "0.005038293"
      ]
     },
     "execution_count": 28,
     "metadata": {},
     "output_type": "execute_result"
    }
   ],
   "source": [
    "norm(new_sorted[0,:] - old_sorted[0,:])"
   ]
  },
  {
   "cell_type": "code",
   "execution_count": 29,
   "id": "13fb21cb",
   "metadata": {},
   "outputs": [
    {
     "data": {
      "text/plain": [
       "33.291767"
      ]
     },
     "execution_count": 29,
     "metadata": {},
     "output_type": "execute_result"
    }
   ],
   "source": [
    "norm(new_sorted, axis=1).mean()"
   ]
  },
  {
   "cell_type": "code",
   "execution_count": 30,
   "id": "a771c8ff",
   "metadata": {},
   "outputs": [
    {
     "data": {
      "text/plain": [
       "33.29172"
      ]
     },
     "execution_count": 30,
     "metadata": {},
     "output_type": "execute_result"
    }
   ],
   "source": [
    "norm(old_sorted, axis=1).mean()"
   ]
  },
  {
   "cell_type": "code",
   "execution_count": null,
   "id": "c8560b59",
   "metadata": {},
   "outputs": [],
   "source": []
  },
  {
   "cell_type": "code",
   "execution_count": null,
   "id": "6e7968ab",
   "metadata": {},
   "outputs": [],
   "source": []
  }
 ],
 "metadata": {
  "kernelspec": {
   "display_name": "torchpl",
   "language": "python",
   "name": "python3"
  },
  "language_info": {
   "codemirror_mode": {
    "name": "ipython",
    "version": 3
   },
   "file_extension": ".py",
   "mimetype": "text/x-python",
   "name": "python",
   "nbconvert_exporter": "python",
   "pygments_lexer": "ipython3",
   "version": "3.11.0"
  }
 },
 "nbformat": 4,
 "nbformat_minor": 5
}
